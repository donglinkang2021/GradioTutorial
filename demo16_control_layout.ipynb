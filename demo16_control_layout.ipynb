{
 "cells": [
  {
   "attachments": {},
   "cell_type": "markdown",
   "metadata": {},
   "source": [
    "## 控制布局\n",
    "\n",
    "这里的`控制布局`感觉上和html是差不多的。"
   ]
  },
  {
   "cell_type": "code",
   "execution_count": 3,
   "metadata": {},
   "outputs": [
    {
     "name": "stderr",
     "output_type": "stream",
     "text": [
      "d:\\anaconda\\lib\\site-packages\\gradio\\components\\button.py:112: UserWarning: The `style` method is deprecated. Please set these arguments in the constructor instead.\n",
      "  warnings.warn(\n",
      "d:\\anaconda\\lib\\site-packages\\gradio\\components\\button.py:116: UserWarning: Use `scale` in place of full_width in the constructor. scale=1 will make the button expand, whereas 0 will not.\n",
      "  warnings.warn(\n"
     ]
    },
    {
     "name": "stdout",
     "output_type": "stream",
     "text": [
      "Running on local URL:  http://127.0.0.1:7863\n",
      "\n",
      "To create a public link, set `share=True` in `launch()`.\n"
     ]
    },
    {
     "data": {
      "text/html": [
       "<div><iframe src=\"http://127.0.0.1:7863/\" width=\"100%\" height=\"500\" allow=\"autoplay; camera; microphone; clipboard-read; clipboard-write;\" frameborder=\"0\" allowfullscreen></iframe></div>"
      ],
      "text/plain": [
       "<IPython.core.display.HTML object>"
      ]
     },
     "metadata": {},
     "output_type": "display_data"
    },
    {
     "data": {
      "text/plain": []
     },
     "execution_count": 3,
     "metadata": {},
     "output_type": "execute_result"
    }
   ],
   "source": [
    "import gradio as gr\n",
    "\n",
    "with gr.Blocks() as demo:\n",
    "    with gr.Row():\n",
    "        text1 = gr.Textbox(label=\"t1\")\n",
    "        slider2 = gr.Slider(minimum=0, maximum=10, label=\"s2\")\n",
    "        drop3 = gr.Dropdown([\"a\", \"b\", \"c\"], label=\"d3\")\n",
    "    with gr.Row():\n",
    "        with gr.Column(scale=1, min_width=600):\n",
    "            text1 = gr.Textbox(label=\"prompt 1\")\n",
    "            text2 = gr.Textbox(label=\"prompt 2\")\n",
    "            inbtw = gr.Button(\"Between\")\n",
    "            text4 = gr.Textbox(label=\"prompt 1\")\n",
    "            text5 = gr.Textbox(label=\"prompt 2\")\n",
    "        with gr.Column(scale=2, min_width=600):\n",
    "            img1 = gr.Image(\"image/cat.jpg\")\n",
    "            btn = gr.Button(\"Go\").style(full_width=True)\n",
    "\n",
    "demo.launch()"
   ]
  },
  {
   "cell_type": "code",
   "execution_count": 1,
   "metadata": {},
   "outputs": [
    {
     "name": "stderr",
     "output_type": "stream",
     "text": [
      "d:\\anaconda\\lib\\site-packages\\gradio\\blocks.py:261: UserWarning: api_name load_example already exists, using load_example_1\n",
      "  warnings.warn(f\"api_name {api_name} already exists, using {api_name_}\")\n"
     ]
    },
    {
     "name": "stdout",
     "output_type": "stream",
     "text": [
      "Running on local URL:  http://127.0.0.1:7861\n",
      "\n",
      "To create a public link, set `share=True` in `launch()`.\n"
     ]
    },
    {
     "data": {
      "text/html": [
       "<div><iframe src=\"http://127.0.0.1:7861/\" width=\"100%\" height=\"500\" allow=\"autoplay; camera; microphone; clipboard-read; clipboard-write;\" frameborder=\"0\" allowfullscreen></iframe></div>"
      ],
      "text/plain": [
       "<IPython.core.display.HTML object>"
      ]
     },
     "metadata": {},
     "output_type": "display_data"
    },
    {
     "data": {
      "text/plain": []
     },
     "execution_count": 1,
     "metadata": {},
     "output_type": "execute_result"
    }
   ],
   "source": [
    "import numpy as np\n",
    "import gradio as gr\n",
    "\n",
    "\n",
    "def flip_text(x):\n",
    "    return x[::-1]\n",
    "\n",
    "\n",
    "def flip_image(x):\n",
    "    return np.fliplr(x)\n",
    "\n",
    "\n",
    "with gr.Blocks() as demo:\n",
    "    gr.Markdown(\"Flip text or image files using this demo.\")\n",
    "    with gr.Tab(\"Flip Text\"):\n",
    "        text_input = gr.Textbox()\n",
    "        text_output = gr.Textbox()\n",
    "        text_button = gr.Button(\"Flip\")\n",
    "        text_example = gr.Examples([\n",
    "            [\"Hello world!\"],\n",
    "            [\"Goodbye!\"],\n",
    "            [\"<3\"]\n",
    "        ], inputs = text_input, outputs = text_output)\n",
    "    with gr.Tab(\"Flip Image\"):\n",
    "        with gr.Row():\n",
    "            image_input = gr.Image()\n",
    "            image_output = gr.Image()\n",
    "        image_button = gr.Button(\"Flip\")\n",
    "        image_example = gr.Examples([\n",
    "            [\"image/cat.jpg\"],\n",
    "            [\"image/dog.jpg\"],\n",
    "            [\"image/dog2.jpg\"]\n",
    "        ] , inputs = image_input, outputs = image_output)\n",
    "\n",
    "    with gr.Accordion(\"Open for More!\"):\n",
    "        gr.Markdown(\"Look at me...\")\n",
    "\n",
    "    text_button.click(flip_text, inputs=text_input, outputs=text_output)\n",
    "    image_button.click(flip_image, inputs=image_input, outputs=image_output)\n",
    "\n",
    "demo.launch()\n"
   ]
  },
  {
   "attachments": {},
   "cell_type": "markdown",
   "metadata": {},
   "source": [
    "## visible "
   ]
  },
  {
   "cell_type": "code",
   "execution_count": 4,
   "metadata": {},
   "outputs": [
    {
     "name": "stdout",
     "output_type": "stream",
     "text": [
      "Running on local URL:  http://127.0.0.1:7864\n",
      "\n",
      "To create a public link, set `share=True` in `launch()`.\n"
     ]
    },
    {
     "data": {
      "text/html": [
       "<div><iframe src=\"http://127.0.0.1:7864/\" width=\"100%\" height=\"500\" allow=\"autoplay; camera; microphone; clipboard-read; clipboard-write;\" frameborder=\"0\" allowfullscreen></iframe></div>"
      ],
      "text/plain": [
       "<IPython.core.display.HTML object>"
      ]
     },
     "metadata": {},
     "output_type": "display_data"
    },
    {
     "data": {
      "text/plain": []
     },
     "execution_count": 4,
     "metadata": {},
     "output_type": "execute_result"
    }
   ],
   "source": [
    "import gradio as gr\n",
    "\n",
    "with gr.Blocks() as demo:\n",
    "    error_box = gr.Textbox(label=\"Error\", visible=False)\n",
    "\n",
    "    name_box = gr.Textbox(label=\"Name\")\n",
    "    age_box = gr.Number(label=\"Age\", minimum=0, maximum=100)\n",
    "    symptoms_box = gr.CheckboxGroup([\"Cough\", \"Fever\", \"Runny Nose\"])\n",
    "    submit_btn = gr.Button(\"Submit\")\n",
    "\n",
    "    with gr.Column(visible=False) as output_col:\n",
    "        diagnosis_box = gr.Textbox(label=\"Diagnosis\")\n",
    "        patient_summary_box = gr.Textbox(label=\"Patient Summary\")\n",
    "\n",
    "    def submit(name, age, symptoms):\n",
    "        if len(name) == 0:\n",
    "            return {error_box: gr.update(value=\"Enter name\", visible=True)}\n",
    "        return {\n",
    "            output_col: gr.update(visible=True),\n",
    "            diagnosis_box: \"covid\" if \"Cough\" in symptoms else \"flu\",\n",
    "            patient_summary_box: f\"{name}, {age} y/o\",\n",
    "        }\n",
    "\n",
    "    submit_btn.click(\n",
    "        submit,\n",
    "        [name_box, age_box, symptoms_box],\n",
    "        [error_box, diagnosis_box, patient_summary_box, output_col],\n",
    "    )\n",
    "\n",
    "demo.launch()\n"
   ]
  },
  {
   "attachments": {},
   "cell_type": "markdown",
   "metadata": {},
   "source": [
    "## 动态调整组件的可见性"
   ]
  },
  {
   "cell_type": "code",
   "execution_count": 5,
   "metadata": {},
   "outputs": [
    {
     "name": "stdout",
     "output_type": "stream",
     "text": [
      "Running on local URL:  http://127.0.0.1:7865\n",
      "\n",
      "To create a public link, set `share=True` in `launch()`.\n"
     ]
    },
    {
     "data": {
      "text/html": [
       "<div><iframe src=\"http://127.0.0.1:7865/\" width=\"100%\" height=\"500\" allow=\"autoplay; camera; microphone; clipboard-read; clipboard-write;\" frameborder=\"0\" allowfullscreen></iframe></div>"
      ],
      "text/plain": [
       "<IPython.core.display.HTML object>"
      ]
     },
     "metadata": {},
     "output_type": "display_data"
    }
   ],
   "source": [
    "import gradio as gr\n",
    "\n",
    "max_textboxes = 10\n",
    "\n",
    "def variable_outputs(k):\n",
    "    k = int(k)\n",
    "    return [gr.Textbox.update(visible=True)]*k + [gr.Textbox.update(visible=False)]*(max_textboxes-k)\n",
    "\n",
    "with gr.Blocks() as demo:\n",
    "    s = gr.Slider(1, max_textboxes, value=max_textboxes, step=1, label=\"How many textboxes to show:\")\n",
    "    textboxes = []\n",
    "    for i in range(max_textboxes):\n",
    "        t = gr.Textbox(f\"Textbox {i}\")\n",
    "        textboxes.append(t)\n",
    "\n",
    "    s.change(variable_outputs, s, textboxes)\n",
    "\n",
    "if __name__ == \"__main__\":\n",
    "   demo.launch()\n"
   ]
  }
 ],
 "metadata": {
  "kernelspec": {
   "display_name": "base",
   "language": "python",
   "name": "python3"
  },
  "language_info": {
   "codemirror_mode": {
    "name": "ipython",
    "version": 3
   },
   "file_extension": ".py",
   "mimetype": "text/x-python",
   "name": "python",
   "nbconvert_exporter": "python",
   "pygments_lexer": "ipython3",
   "version": "3.9.7"
  },
  "orig_nbformat": 4
 },
 "nbformat": 4,
 "nbformat_minor": 2
}
