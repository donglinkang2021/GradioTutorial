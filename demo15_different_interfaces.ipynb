{
 "cells": [
  {
   "attachments": {},
   "cell_type": "markdown",
   "metadata": {},
   "source": [
    "# 这里又是介绍不同的interfaces的\n",
    "\n",
    "具体参考https://www.gradio.app/four-kinds-of-interfaces/"
   ]
  },
  {
   "cell_type": "code",
   "execution_count": 4,
   "metadata": {},
   "outputs": [
    {
     "name": "stdout",
     "output_type": "stream",
     "text": [
      "Running on local URL:  http://127.0.0.1:7868\n",
      "\n",
      "To create a public link, set `share=True` in `launch()`.\n"
     ]
    },
    {
     "data": {
      "text/html": [
       "<div><iframe src=\"http://127.0.0.1:7868/\" width=\"100%\" height=\"500\" allow=\"autoplay; camera; microphone; clipboard-read; clipboard-write;\" frameborder=\"0\" allowfullscreen></iframe></div>"
      ],
      "text/plain": [
       "<IPython.core.display.HTML object>"
      ]
     },
     "metadata": {},
     "output_type": "display_data"
    },
    {
     "data": {
      "text/plain": []
     },
     "execution_count": 4,
     "metadata": {},
     "output_type": "execute_result"
    },
    {
     "name": "stderr",
     "output_type": "stream",
     "text": [
      "d:\\anaconda\\lib\\site-packages\\transformers\\generation\\utils.py:1219: UserWarning: You have modified the pretrained model configuration to control generation. This is a deprecated strategy to control generation and will be removed soon, in a future version. Please use a generation configuration file (see https://huggingface.co/docs/transformers/main_classes/text_generation)\n",
      "  warnings.warn(\n",
      "Setting `pad_token_id` to `eos_token_id`:50256 for open-end generation.\n"
     ]
    }
   ],
   "source": [
    "import gradio as gr\n",
    "from transformers import pipeline\n",
    "\n",
    "generator = pipeline('text-generation', model = 'gpt2')\n",
    "\n",
    "def generate_text(text_prompt):\n",
    "  response = generator(text_prompt, max_length = 50, num_return_sequences=5)\n",
    "  return response[0]['generated_text']\n",
    "\n",
    "textbox = gr.Textbox()\n",
    "\n",
    "demo = gr.Interface(generate_text, textbox, textbox)\n",
    "\n",
    "demo.launch()"
   ]
  },
  {
   "attachments": {},
   "cell_type": "markdown",
   "metadata": {},
   "source": [
    "# 别人的例子\n",
    "\n",
    "感觉用gradio做的很不错的一个例子\n",
    "\n",
    "https://github.com/liliyehuilianhong/AI-instruction-generator-for-RenPy\n",
    "\n",
    "具体的实现效果：\n",
    "\n",
    "![demo15](image/demo15_otherguy.gif)\n",
    "\n",
    "> 老实说看了它的项目之后自己之后有个想法就是可以规范化自己的prompt输出，最终的结果就是做到和他差不多，不过更通用，希望就是可以学完chatgpt prompt engineering之后就用gradio做一个这样的项目"
   ]
  },
  {
   "cell_type": "code",
   "execution_count": 1,
   "metadata": {},
   "outputs": [
    {
     "name": "stderr",
     "output_type": "stream",
     "text": [
      "C:\\Users\\dongl\\AppData\\Local\\Temp/ipykernel_6332/130849220.py:26: UserWarning: You have unused kwarg parameters in Textbox, please remove them: {'inputs': 'text', 'outputs': 'text'}\n",
      "  gr.Textbox(\n",
      "C:\\Users\\dongl\\AppData\\Local\\Temp/ipykernel_6332/130849220.py:55: UserWarning: You have unused kwarg parameters in Dropdown, please remove them: {'lable': '风格'}\n",
      "  gr.Dropdown(\n",
      "C:\\Users\\dongl\\AppData\\Local\\Temp/ipykernel_6332/130849220.py:89: UserWarning: You have unused kwarg parameters in Textbox, please remove them: {'inputs': 'text', 'outputs': 'text'}\n",
      "  gr.Textbox(\n",
      "d:\\anaconda\\lib\\site-packages\\gradio\\blocks.py:922: UserWarning: api_name predict already exists, using predict_1\n",
      "  warnings.warn(\n",
      "d:\\anaconda\\lib\\site-packages\\gradio\\blocks.py:922: UserWarning: api_name predict already exists, using predict_2\n",
      "  warnings.warn(\n"
     ]
    },
    {
     "name": "stdout",
     "output_type": "stream",
     "text": [
      "Running on local URL:  http://127.0.0.1:7866\n",
      "\n",
      "To create a public link, set `share=True` in `launch()`.\n"
     ]
    },
    {
     "data": {
      "text/html": [
       "<div><iframe src=\"http://127.0.0.1:7866/\" width=\"100%\" height=\"500\" allow=\"autoplay; camera; microphone; clipboard-read; clipboard-write;\" frameborder=\"0\" allowfullscreen></iframe></div>"
      ],
      "text/plain": [
       "<IPython.core.display.HTML object>"
      ]
     },
     "metadata": {},
     "output_type": "display_data"
    },
    {
     "data": {
      "text/plain": []
     },
     "execution_count": 1,
     "metadata": {},
     "output_type": "execute_result"
    }
   ],
   "source": [
    "import gradio as gr\n",
    "import os\n",
    "\n",
    "\n",
    "\n",
    "# tag生成\n",
    "def pmt_sd(style, input_text):\n",
    "    return f\"\"\"masterpiece, best quality, masterpiece,best quality,official art,extremely detailed CG unity 8k \n",
    "    wallpaper,{style}{input_text}\"\"\"\n",
    "\n",
    "\n",
    "title2 = \"Tag生成\"\n",
    "description2 = (\n",
    "    \"点击 Submit 按钮，生成Tag\"\n",
    ")\n",
    "\n",
    "pmt_demo = gr.Interface(\n",
    "    pmt_sd,\n",
    "    [\n",
    "        gr.CheckboxGroup(\n",
    "            [\"comic\", \"real\", \"corlorful\", \"artbook\", \"light\", \"night\", \"bright\", \"animate\", \"album\", \"photo\", \"sketch\",\n",
    "             \"science_fiction\", \"back\", \"bust\", \"profile\", \"guro\"\n",
    "             ],\n",
    "            label=\"风格\", info=\"增加风格Tag\"\n",
    "        ),\n",
    "        gr.Textbox(\n",
    "            inputs=\"text\", outputs=\"text\", label=\"描述文本输入\", info=\"提供文本描述\"\n",
    "        )\n",
    "    ],\n",
    "    \"text\",\n",
    "    title=title2,\n",
    "    description=description2,\n",
    "    examples=[\n",
    "        [[\"comic\", \"light\"], \"school,overlooking the teaching building, the white building is clean, modern and has a \"\n",
    "                             \"sense of science and technology\"],\n",
    "        [[\"corlorful\", \"animate\"], \"quiet forest, light through the leaves, halo\"]\n",
    "    ]\n",
    ")\n",
    "\n",
    "\n",
    "# Prompt生成\n",
    "def pmt_chat(style_1, choose_txt, text_num):\n",
    "    return f\"\"\"帮我写一个{style_1}风格的{choose_txt}视觉小说剧本，字数为{text_num}\"\"\"\n",
    "\n",
    "\n",
    "title3 = \"Prompt生成\"\n",
    "description3 = (\n",
    "    \"点击 Submit 按钮，生成Prompt\"\n",
    ")\n",
    "\n",
    "pmp_demo = gr.Interface(\n",
    "    pmt_chat,\n",
    "    [\n",
    "        gr.Dropdown(\n",
    "            [\"魔幻\", \"玄幻\", \"写实\", \"架空\", \"穿越\"], lable=\"风格\", info=\"选择剧本风格\"\n",
    "        ),\n",
    "        gr.CheckboxGroup(\n",
    "            [\"校园\", \"恋爱\", \"喜剧\", \"魔法\", \"都市\", \"热血\", \"冒险\", \"机甲\", \"日常\",\n",
    "             \"美食\", \"悬疑\", \"竞技\", \"体育\", \"科幻\", \"侦探\", \"青春\", \"古风\", \"家庭\",\n",
    "             \"推理\", \"恐怖\", \"泡泡系\", \"异世界\", \"伦理\"\n",
    "             ],\n",
    "            label=\"内容\", info=\"选择剧本内容\"\n",
    "        ),\n",
    "        gr.Slider(500, 5000, value=500, label=\"字数\", info=\"选择字数\"),\n",
    "    ],\n",
    "    \"text\",\n",
    "    title=title3,\n",
    "    description=description3,\n",
    ")\n",
    "\n",
    "# 操作文件\n",
    "def file_ctl(file_0):\n",
    "    path = f\"{file_0}\"\n",
    "    num = 1\n",
    "    for file in os.listdir(path):\n",
    "        os.rename(os.path.join(path, file), os.path.join(path, str(num)) + \".png\")\n",
    "        num = num + 1\n",
    "    return f\"已经完成文件重命名\"\n",
    "\n",
    "title4 = \"图片批量重命名\"\n",
    "description4 = (\n",
    "    \"点击 Submit 按钮，批量重命名文件\"\n",
    ")\n",
    "\n",
    "file_demo = gr.Interface(\n",
    "    file_ctl,\n",
    "    [\n",
    "        gr.Textbox(\n",
    "            inputs=\"text\", outputs=\"text\", label=\"路径\", info=\"输入文件路径\"\n",
    "        )\n",
    "    ],\n",
    "    \"text\",\n",
    "    title=title4,\n",
    "    description=description4,\n",
    ")\n",
    "\n",
    "\n",
    "\n",
    "# 多页面启动\n",
    "demo = gr.TabbedInterface(([pmt_demo, pmp_demo, file_demo]),\n",
    "                          [\"tag\", \"prompt\", \"file\"])\n",
    "demo.launch()"
   ]
  },
  {
   "attachments": {},
   "cell_type": "markdown",
   "metadata": {},
   "source": [
    "## 多个数据流"
   ]
  },
  {
   "cell_type": "code",
   "execution_count": 2,
   "metadata": {},
   "outputs": [
    {
     "name": "stdout",
     "output_type": "stream",
     "text": [
      "Running on local URL:  http://127.0.0.1:7867\n",
      "\n",
      "To create a public link, set `share=True` in `launch()`.\n"
     ]
    },
    {
     "data": {
      "text/html": [
       "<div><iframe src=\"http://127.0.0.1:7867/\" width=\"100%\" height=\"500\" allow=\"autoplay; camera; microphone; clipboard-read; clipboard-write;\" frameborder=\"0\" allowfullscreen></iframe></div>"
      ],
      "text/plain": [
       "<IPython.core.display.HTML object>"
      ]
     },
     "metadata": {},
     "output_type": "display_data"
    },
    {
     "data": {
      "text/plain": []
     },
     "execution_count": 2,
     "metadata": {},
     "output_type": "execute_result"
    }
   ],
   "source": [
    "import gradio as gr\n",
    "\n",
    "def increase(num):\n",
    "    return num + 1\n",
    "\n",
    "with gr.Blocks() as demo:\n",
    "    a = gr.Number(label=\"a\")\n",
    "    b = gr.Number(label=\"b\")\n",
    "    btoa = gr.Button(\"a > b\")\n",
    "    atob = gr.Button(\"b > a\")\n",
    "    atob.click(increase, a, b)\n",
    "    btoa.click(increase, b, a)\n",
    "\n",
    "demo.launch()"
   ]
  },
  {
   "attachments": {},
   "cell_type": "markdown",
   "metadata": {},
   "source": [
    "## 多步骤（语音识别+情感分析）\n",
    "\n",
    "![demo15](image/demo15_senti.png)"
   ]
  },
  {
   "cell_type": "code",
   "execution_count": 1,
   "metadata": {},
   "outputs": [
    {
     "name": "stderr",
     "output_type": "stream",
     "text": [
      "Some weights of Wav2Vec2ForCTC were not initialized from the model checkpoint at facebook/wav2vec2-base-960h and are newly initialized: ['wav2vec2.masked_spec_embed']\n",
      "You should probably TRAIN this model on a down-stream task to be able to use it for predictions and inference.\n",
      "No model was supplied, defaulted to distilbert-base-uncased-finetuned-sst-2-english and revision af0f99b (https://huggingface.co/distilbert-base-uncased-finetuned-sst-2-english).\n",
      "Using a pipeline without specifying a model name and revision in production is not recommended.\n"
     ]
    }
   ],
   "source": [
    "from transformers import pipeline\n",
    "\n",
    "import gradio as gr\n",
    "\n",
    "asr = pipeline(\"automatic-speech-recognition\", \"facebook/wav2vec2-base-960h\")\n",
    "classifier = pipeline(\"text-classification\")\n"
   ]
  },
  {
   "cell_type": "code",
   "execution_count": 2,
   "metadata": {},
   "outputs": [
    {
     "name": "stdout",
     "output_type": "stream",
     "text": [
      "Running on local URL:  http://127.0.0.1:7866\n",
      "\n",
      "To create a public link, set `share=True` in `launch()`.\n"
     ]
    },
    {
     "data": {
      "text/html": [
       "<div><iframe src=\"http://127.0.0.1:7866/\" width=\"100%\" height=\"500\" allow=\"autoplay; camera; microphone; clipboard-read; clipboard-write;\" frameborder=\"0\" allowfullscreen></iframe></div>"
      ],
      "text/plain": [
       "<IPython.core.display.HTML object>"
      ]
     },
     "metadata": {},
     "output_type": "display_data"
    },
    {
     "data": {
      "text/plain": []
     },
     "execution_count": 2,
     "metadata": {},
     "output_type": "execute_result"
    }
   ],
   "source": [
    "def speech_to_text(speech):\n",
    "    text = asr(speech)[\"text\"]\n",
    "    return text\n",
    "\n",
    "\n",
    "def text_to_sentiment(text):\n",
    "    return classifier(text)[0][\"label\"]\n",
    "\n",
    "\n",
    "demo = gr.Blocks()\n",
    "\n",
    "with demo:\n",
    "    audio_file = gr.Audio(type=\"filepath\")\n",
    "    text = gr.Textbox()\n",
    "    label = gr.Label()\n",
    "\n",
    "    b1 = gr.Button(\"Recognize Speech\")\n",
    "    b2 = gr.Button(\"Classify Sentiment\")\n",
    "\n",
    "    b1.click(speech_to_text, inputs=audio_file, outputs=text)\n",
    "    b2.click(text_to_sentiment, inputs=text, outputs=label)\n",
    "\n",
    "demo.launch()\n"
   ]
  },
  {
   "attachments": {},
   "cell_type": "markdown",
   "metadata": {},
   "source": [
    "## 连续运行事件Chatbot"
   ]
  },
  {
   "cell_type": "code",
   "execution_count": 3,
   "metadata": {},
   "outputs": [
    {
     "name": "stdout",
     "output_type": "stream",
     "text": [
      "Running on local URL:  http://127.0.0.1:7867\n",
      "\n",
      "To create a public link, set `share=True` in `launch()`.\n"
     ]
    },
    {
     "data": {
      "text/html": [
       "<div><iframe src=\"http://127.0.0.1:7867/\" width=\"100%\" height=\"500\" allow=\"autoplay; camera; microphone; clipboard-read; clipboard-write;\" frameborder=\"0\" allowfullscreen></iframe></div>"
      ],
      "text/plain": [
       "<IPython.core.display.HTML object>"
      ]
     },
     "metadata": {},
     "output_type": "display_data"
    },
    {
     "data": {
      "text/plain": []
     },
     "execution_count": 3,
     "metadata": {},
     "output_type": "execute_result"
    }
   ],
   "source": [
    "import gradio as gr\n",
    "import random\n",
    "import time\n",
    "\n",
    "with gr.Blocks() as demo:\n",
    "    chatbot = gr.Chatbot()\n",
    "    msg = gr.Textbox()\n",
    "    clear = gr.ClearButton([msg, chatbot])\n",
    "\n",
    "    def respond(message, chat_history):\n",
    "        bot_message = random.choice([\"How are you?\", \"I love you\", \"I'm very hungry\"])\n",
    "        chat_history.append((message, bot_message))\n",
    "        time.sleep(2)\n",
    "        return \"\", chat_history\n",
    "\n",
    "    msg.submit(respond, [msg, chatbot], [msg, chatbot])\n",
    "\n",
    "demo.launch()\n"
   ]
  },
  {
   "attachments": {},
   "cell_type": "markdown",
   "metadata": {},
   "source": [
    "## 持续运行事件\n",
    "\n",
    "> 下图的正弦函数是一直在动的，像一个波形图一样\n",
    "\n",
    "![demo15](image/demo15_sin.png)"
   ]
  },
  {
   "cell_type": "code",
   "execution_count": 6,
   "metadata": {},
   "outputs": [
    {
     "name": "stdout",
     "output_type": "stream",
     "text": [
      "Running on local URL:  http://127.0.0.1:7869\n",
      "\n",
      "To create a public link, set `share=True` in `launch()`.\n"
     ]
    },
    {
     "data": {
      "text/html": [
       "<div><iframe src=\"http://127.0.0.1:7869/\" width=\"100%\" height=\"500\" allow=\"autoplay; camera; microphone; clipboard-read; clipboard-write;\" frameborder=\"0\" allowfullscreen></iframe></div>"
      ],
      "text/plain": [
       "<IPython.core.display.HTML object>"
      ]
     },
     "metadata": {},
     "output_type": "display_data"
    }
   ],
   "source": [
    "import math\n",
    "import gradio as gr\n",
    "import plotly.express as px\n",
    "import numpy as np\n",
    "\n",
    "\n",
    "plot_end = 2 * math.pi\n",
    "\n",
    "\n",
    "def get_plot(period=1):\n",
    "    global plot_end\n",
    "    x = np.arange(plot_end - 2 * math.pi, plot_end, 0.02)\n",
    "    y = np.sin(2*math.pi*period * x)\n",
    "    fig = px.line(x=x, y=y)\n",
    "    plot_end += 2 * math.pi\n",
    "    if plot_end > 1000:\n",
    "        plot_end = 2 * math.pi\n",
    "    return fig\n",
    "\n",
    "\n",
    "with gr.Blocks() as demo:\n",
    "    with gr.Row():\n",
    "        with gr.Column():\n",
    "            gr.Markdown(\"Change the value of the slider to automatically update the plot\")\n",
    "            period = gr.Slider(label=\"Period of plot\", value=1, minimum=0, maximum=10, step=1)\n",
    "            plot = gr.Plot(label=\"Plot (updates every half second)\")\n",
    "\n",
    "    dep = demo.load(get_plot, None, plot, every=1)\n",
    "    period.change(get_plot, period, plot, every=1, cancels=[dep])\n",
    "\n",
    "\n",
    "if __name__ == \"__main__\":\n",
    "    demo.queue().launch()\n"
   ]
  },
  {
   "attachments": {},
   "cell_type": "markdown",
   "metadata": {},
   "source": [
    "## 收集事件数据"
   ]
  },
  {
   "cell_type": "code",
   "execution_count": 5,
   "metadata": {},
   "outputs": [
    {
     "name": "stdout",
     "output_type": "stream",
     "text": [
      "Running on local URL:  http://127.0.0.1:7868\n",
      "\n",
      "To create a public link, set `share=True` in `launch()`.\n"
     ]
    },
    {
     "data": {
      "text/html": [
       "<div><iframe src=\"http://127.0.0.1:7868/\" width=\"100%\" height=\"500\" allow=\"autoplay; camera; microphone; clipboard-read; clipboard-write;\" frameborder=\"0\" allowfullscreen></iframe></div>"
      ],
      "text/plain": [
       "<IPython.core.display.HTML object>"
      ]
     },
     "metadata": {},
     "output_type": "display_data"
    },
    {
     "data": {
      "text/plain": []
     },
     "execution_count": 5,
     "metadata": {},
     "output_type": "execute_result"
    }
   ],
   "source": [
    "import gradio as gr\n",
    "\n",
    "with gr.Blocks() as demo:\n",
    "    turn = gr.Textbox(\"X\", interactive=False, label=\"Turn\")\n",
    "    board = gr.Dataframe(value=[[\"\", \"\", \"\"]] * 3, interactive=False, type=\"array\")\n",
    "\n",
    "    def place(board, turn, evt: gr.SelectData):\n",
    "        if evt.value:\n",
    "            return board, turn\n",
    "        board[evt.index[0]][evt.index[1]] = turn\n",
    "        turn = \"O\" if turn == \"X\" else \"X\"\n",
    "        return board, turn\n",
    "\n",
    "    board.select(place, [board, turn], [board, turn])\n",
    "\n",
    "demo.launch()"
   ]
  }
 ],
 "metadata": {
  "kernelspec": {
   "display_name": "base",
   "language": "python",
   "name": "python3"
  },
  "language_info": {
   "codemirror_mode": {
    "name": "ipython",
    "version": 3
   },
   "file_extension": ".py",
   "mimetype": "text/x-python",
   "name": "python",
   "nbconvert_exporter": "python",
   "pygments_lexer": "ipython3",
   "version": "3.9.7"
  },
  "orig_nbformat": 4
 },
 "nbformat": 4,
 "nbformat_minor": 2
}
