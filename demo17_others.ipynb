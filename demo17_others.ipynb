{
 "cells": [
  {
   "cell_type": "code",
   "execution_count": 1,
   "metadata": {},
   "outputs": [
    {
     "name": "stdout",
     "output_type": "stream",
     "text": [
      "Running on local URL:  http://127.0.0.1:7866\n",
      "\n",
      "To create a public link, set `share=True` in `launch()`.\n"
     ]
    },
    {
     "data": {
      "text/html": [
       "<div><iframe src=\"http://127.0.0.1:7866/\" width=\"100%\" height=\"500\" allow=\"autoplay; camera; microphone; clipboard-read; clipboard-write;\" frameborder=\"0\" allowfullscreen></iframe></div>"
      ],
      "text/plain": [
       "<IPython.core.display.HTML object>"
      ]
     },
     "metadata": {},
     "output_type": "display_data"
    },
    {
     "data": {
      "text/plain": []
     },
     "execution_count": 1,
     "metadata": {},
     "output_type": "execute_result"
    }
   ],
   "source": [
    "import gradio as gr\n",
    "\n",
    "secret_word = \"gradio\"\n",
    "\n",
    "with gr.Blocks() as demo:    \n",
    "    used_letters_var = gr.State([])\n",
    "    with gr.Row() as row:\n",
    "        with gr.Column():\n",
    "            input_letter = gr.Textbox(label=\"Enter letter\")\n",
    "            btn = gr.Button(\"Guess Letter\")\n",
    "        with gr.Column():\n",
    "            hangman = gr.Textbox(\n",
    "                label=\"Hangman\",\n",
    "                value=\"_\"*len(secret_word)\n",
    "            )\n",
    "            used_letters_box = gr.Textbox(label=\"Used Letters\")\n",
    "\n",
    "    def guess_letter(letter, used_letters):\n",
    "        used_letters.append(letter)\n",
    "        answer = \"\".join([\n",
    "            (letter if letter in used_letters else \"_\")\n",
    "            for letter in secret_word\n",
    "        ])\n",
    "        return {\n",
    "            used_letters_var: used_letters,\n",
    "            used_letters_box: \", \".join(used_letters),\n",
    "            hangman: answer\n",
    "        }\n",
    "    btn.click(\n",
    "        guess_letter, \n",
    "        [input_letter, used_letters_var],\n",
    "        [used_letters_var, used_letters_box, hangman]\n",
    "        )\n",
    "demo.launch()"
   ]
  },
  {
   "cell_type": "code",
   "execution_count": 2,
   "metadata": {},
   "outputs": [
    {
     "name": "stdout",
     "output_type": "stream",
     "text": [
      "Running on local URL:  http://127.0.0.1:7867\n",
      "\n",
      "To create a public link, set `share=True` in `launch()`.\n"
     ]
    },
    {
     "data": {
      "text/html": [
       "<div><iframe src=\"http://127.0.0.1:7867/\" width=\"100%\" height=\"500\" allow=\"autoplay; camera; microphone; clipboard-read; clipboard-write;\" frameborder=\"0\" allowfullscreen></iframe></div>"
      ],
      "text/plain": [
       "<IPython.core.display.HTML object>"
      ]
     },
     "metadata": {},
     "output_type": "display_data"
    },
    {
     "data": {
      "text/plain": []
     },
     "execution_count": 2,
     "metadata": {},
     "output_type": "execute_result"
    }
   ],
   "source": [
    "import gradio as gr\n",
    "\n",
    "blocks = gr.Blocks()\n",
    "\n",
    "with blocks as demo:\n",
    "    subject = gr.Textbox(placeholder=\"subject\")\n",
    "    verb = gr.Radio([\"ate\", \"loved\", \"hated\"])\n",
    "    object = gr.Textbox(placeholder=\"object\")\n",
    "\n",
    "    with gr.Row():\n",
    "        btn = gr.Button(\"Create sentence.\")\n",
    "        reverse_btn = gr.Button(\"Reverse sentence.\")\n",
    "        foo_bar_btn = gr.Button(\"Append foo\")\n",
    "        reverse_then_to_the_server_btn = gr.Button(\n",
    "            \"Reverse sentence and send to server.\"\n",
    "        )\n",
    "\n",
    "    def sentence_maker(w1, w2, w3):\n",
    "        return f\"{w1} {w2} {w3}\"\n",
    "\n",
    "    output1 = gr.Textbox(label=\"output 1\")\n",
    "    output2 = gr.Textbox(label=\"verb\")\n",
    "    output3 = gr.Textbox(label=\"verb reversed\")\n",
    "    output4 = gr.Textbox(label=\"front end process and then send to backend\")\n",
    "\n",
    "    btn.click(sentence_maker, [subject, verb, object], output1)\n",
    "    reverse_btn.click(\n",
    "        None, [subject, verb, object], output2, _js=\"(s, v, o) => o + ' ' + v + ' ' + s\"\n",
    "    )\n",
    "    verb.change(lambda x: x, verb, output3, _js=\"(x) => [...x].reverse().join('')\")\n",
    "    foo_bar_btn.click(None, [], subject, _js=\"(x) => x + ' foo'\")\n",
    "\n",
    "    reverse_then_to_the_server_btn.click(\n",
    "        sentence_maker,\n",
    "        [subject, verb, object],\n",
    "        output4,\n",
    "        _js=\"(s, v, o) => [s, v, o].map(x => [...x].reverse().join(''))\",\n",
    "    )\n",
    "\n",
    "demo.launch()\n"
   ]
  },
  {
   "attachments": {},
   "cell_type": "markdown",
   "metadata": {},
   "source": [
    "> 实际上官方文档中的例子到这里也就差不多结束了，而且后面的内容自己目前基本不会用到，先暂时到这里吧~"
   ]
  }
 ],
 "metadata": {
  "kernelspec": {
   "display_name": "base",
   "language": "python",
   "name": "python3"
  },
  "language_info": {
   "codemirror_mode": {
    "name": "ipython",
    "version": 3
   },
   "file_extension": ".py",
   "mimetype": "text/x-python",
   "name": "python",
   "nbconvert_exporter": "python",
   "pygments_lexer": "ipython3",
   "version": "3.9.7"
  },
  "orig_nbformat": 4
 },
 "nbformat": 4,
 "nbformat_minor": 2
}
