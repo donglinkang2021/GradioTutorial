{
 "cells": [
  {
   "attachments": {},
   "cell_type": "markdown",
   "metadata": {},
   "source": [
    "# 高级界面功能\n",
    "\n",
    "## mobileNetV2\n",
    "\n",
    "![demo14](image/demo14_mobilenet.gif)"
   ]
  },
  {
   "cell_type": "code",
   "execution_count": 1,
   "metadata": {},
   "outputs": [
    {
     "name": "stdout",
     "output_type": "stream",
     "text": [
      "Running on local URL:  http://127.0.0.1:7860\n",
      "\n",
      "To create a public link, set `share=True` in `launch()`.\n"
     ]
    },
    {
     "data": {
      "text/html": [
       "<div><iframe src=\"http://127.0.0.1:7860/\" width=\"100%\" height=\"500\" allow=\"autoplay; camera; microphone; clipboard-read; clipboard-write;\" frameborder=\"0\" allowfullscreen></iframe></div>"
      ],
      "text/plain": [
       "<IPython.core.display.HTML object>"
      ]
     },
     "metadata": {},
     "output_type": "display_data"
    },
    {
     "data": {
      "text/plain": []
     },
     "execution_count": 1,
     "metadata": {},
     "output_type": "execute_result"
    },
    {
     "name": "stdout",
     "output_type": "stream",
     "text": [
      "1/1 [==============================] - 1s 567ms/step\n",
      "1/1 [==============================] - 0s 32ms/step\n",
      "1/1 [==============================] - 0s 32ms/step\n",
      "1/1 [==============================] - 0s 37ms/step\n",
      "1/1 [==============================] - 0s 33ms/step\n",
      "1/1 [==============================] - 0s 40ms/step\n",
      "1/1 [==============================] - 0s 39ms/step\n",
      "1/1 [==============================] - 0s 35ms/step\n",
      "1/1 [==============================] - 0s 30ms/step\n",
      "1/1 [==============================] - 0s 43ms/step\n",
      "1/1 [==============================] - 0s 39ms/step\n",
      "1/1 [==============================] - 0s 35ms/step\n",
      "1/1 [==============================] - 0s 36ms/step\n",
      "1/1 [==============================] - 0s 35ms/step\n",
      "1/1 [==============================] - 0s 36ms/step\n",
      "1/1 [==============================] - 0s 37ms/step\n",
      "1/1 [==============================] - 0s 35ms/step\n",
      "1/1 [==============================] - 0s 39ms/step\n",
      "1/1 [==============================] - 0s 30ms/step\n",
      "1/1 [==============================] - 0s 33ms/step\n",
      "1/1 [==============================] - 0s 33ms/step\n",
      "1/1 [==============================] - 0s 35ms/step\n",
      "1/1 [==============================] - 0s 35ms/step\n",
      "1/1 [==============================] - 0s 36ms/step\n",
      "1/1 [==============================] - 0s 41ms/step\n",
      "1/1 [==============================] - 0s 37ms/step\n",
      "1/1 [==============================] - 0s 37ms/step\n",
      "1/1 [==============================] - 0s 33ms/step\n",
      "1/1 [==============================] - 0s 36ms/step\n",
      "1/1 [==============================] - 0s 37ms/step\n",
      "1/1 [==============================] - 0s 33ms/step\n",
      "1/1 [==============================] - 0s 35ms/step\n",
      "1/1 [==============================] - 0s 35ms/step\n",
      "1/1 [==============================] - 0s 35ms/step\n",
      "1/1 [==============================] - 0s 33ms/step\n",
      "1/1 [==============================] - 0s 33ms/step\n",
      "1/1 [==============================] - 0s 67ms/step\n",
      "1/1 [==============================] - 0s 37ms/step\n",
      "1/1 [==============================] - 0s 40ms/step\n",
      "1/1 [==============================] - 0s 40ms/step\n",
      "1/1 [==============================] - 0s 43ms/step\n",
      "1/1 [==============================] - 0s 39ms/step\n",
      "1/1 [==============================] - 0s 46ms/step\n",
      "1/1 [==============================] - 0s 38ms/step\n",
      "1/1 [==============================] - 0s 35ms/step\n",
      "1/1 [==============================] - 0s 37ms/step\n",
      "1/1 [==============================] - 0s 30ms/step\n"
     ]
    }
   ],
   "source": [
    "import requests\n",
    "import tensorflow as tf\n",
    "\n",
    "import gradio as gr\n",
    "\n",
    "inception_net = tf.keras.applications.MobileNetV2()  # load the model\n",
    "\n",
    "# Download human-readable labels for ImageNet.\n",
    "# response = requests.get(\"https://git.io/JJkYN\")\n",
    "# labels = response.text.split(\"\\n\")\n",
    "# 由于自己挂代理了无法下载，所以直接下载到本地\n",
    "with open(\"./data/labels.txt\") as f:\n",
    "    labels = f.readlines()\n",
    "labels = [s.strip() for s in labels]\n",
    "\n",
    "\n",
    "def classify_image(inp):\n",
    "    inp = inp.reshape((-1, 224, 224, 3))\n",
    "    inp = tf.keras.applications.mobilenet_v2.preprocess_input(inp)\n",
    "    prediction = inception_net.predict(inp).flatten()\n",
    "    return {labels[i]: float(prediction[i]) for i in range(1000)}\n",
    "\n",
    "\n",
    "image = gr.Image(shape=(224, 224))\n",
    "label = gr.Label(num_top_classes=3)\n",
    "\n",
    "demo = gr.Interface(\n",
    "    fn=classify_image, \n",
    "    inputs=image, \n",
    "    outputs=label, \n",
    "    interpretation=\"default\",\n",
    "    title=\"MobileNetV2 ImageNet Classifier\",\n",
    "    description=\"Identify the most prominent object in the image. This model is trained on the ImageNet dataset.\",\n",
    "    examples=[\n",
    "        [\"image/cat.jpg\"],\n",
    "        [\"image/dog.jpg\"],\n",
    "        [\"image/dog2.jpg\"],\n",
    "    ]\n",
    ")\n",
    "\n",
    "demo.launch()\n"
   ]
  },
  {
   "attachments": {},
   "cell_type": "markdown",
   "metadata": {},
   "source": [
    "## Interpretation的作用\n",
    "\n",
    "![demo14](image/demo14_interpretation.gif)"
   ]
  },
  {
   "cell_type": "code",
   "execution_count": 4,
   "metadata": {},
   "outputs": [
    {
     "name": "stdout",
     "output_type": "stream",
     "text": [
      "Running on local URL:  http://127.0.0.1:7863\n",
      "\n",
      "To create a public link, set `share=True` in `launch()`.\n"
     ]
    },
    {
     "data": {
      "text/html": [
       "<div><iframe src=\"http://127.0.0.1:7863/\" width=\"100%\" height=\"500\" allow=\"autoplay; camera; microphone; clipboard-read; clipboard-write;\" frameborder=\"0\" allowfullscreen></iframe></div>"
      ],
      "text/plain": [
       "<IPython.core.display.HTML object>"
      ]
     },
     "metadata": {},
     "output_type": "display_data"
    },
    {
     "data": {
      "text/plain": []
     },
     "execution_count": 4,
     "metadata": {},
     "output_type": "execute_result"
    }
   ],
   "source": [
    "import gradio as gr\n",
    "\n",
    "male_words, female_words = [\"he\", \"his\", \"him\"], [\"she\", \"hers\", \"her\"]\n",
    "\n",
    "\n",
    "def gender_of_sentence(sentence):\n",
    "    male_count = len(\n",
    "        [word for word in sentence.split() if word.lower() in male_words]\n",
    "    )\n",
    "    female_count = len(\n",
    "        [word for word in sentence.split() if word.lower() in female_words]\n",
    "    )\n",
    "    total = max(male_count + female_count, 1)\n",
    "    return {\"male\": male_count / total, \"female\": female_count / total}\n",
    "\n",
    "\n",
    "demo = gr.Interface(\n",
    "    fn=gender_of_sentence,\n",
    "    inputs=gr.Textbox(value=\"She went to his house to get her keys.\"),\n",
    "    outputs=\"label\",\n",
    "    interpretation=\"default\",\n",
    "    examples=[\n",
    "        [\"She went to his house to get her keys.\"],\n",
    "        [\"He went to her house to get his keys.\"],\n",
    "        [\"His keys were at her house.\"],\n",
    "    ],\n",
    ")\n",
    "\n",
    "demo.launch()\n"
   ]
  },
  {
   "cell_type": "code",
   "execution_count": 6,
   "metadata": {},
   "outputs": [
    {
     "name": "stdout",
     "output_type": "stream",
     "text": [
      "Running on local URL:  http://127.0.0.1:7865\n",
      "\n",
      "To create a public link, set `share=True` in `launch()`.\n"
     ]
    },
    {
     "data": {
      "text/html": [
       "<div><iframe src=\"http://127.0.0.1:7865/\" width=\"100%\" height=\"500\" allow=\"autoplay; camera; microphone; clipboard-read; clipboard-write;\" frameborder=\"0\" allowfullscreen></iframe></div>"
      ],
      "text/plain": [
       "<IPython.core.display.HTML object>"
      ]
     },
     "metadata": {},
     "output_type": "display_data"
    },
    {
     "data": {
      "text/plain": []
     },
     "execution_count": 6,
     "metadata": {},
     "output_type": "execute_result"
    }
   ],
   "source": [
    "import re\n",
    "\n",
    "import gradio as gr\n",
    "\n",
    "male_words, female_words = [\"he\", \"his\", \"him\"], [\"she\", \"hers\", \"her\"]\n",
    "\n",
    "\n",
    "def gender_of_sentence(sentence):\n",
    "    male_count = len(\n",
    "        [word for word in sentence.split() if word.lower() in male_words]\n",
    "    )\n",
    "    female_count = len(\n",
    "        [word for word in sentence.split() if word.lower() in female_words]\n",
    "    )\n",
    "    total = max(male_count + female_count, 1)\n",
    "    return {\"male\": male_count / total, \"female\": female_count / total}\n",
    "\n",
    "\n",
    "# Number of arguments to interpretation function must\n",
    "# match number of inputs to prediction function\n",
    "def interpret_gender(sentence):\n",
    "    result = gender_of_sentence(sentence)\n",
    "    is_male = result[\"male\"] > result[\"female\"]\n",
    "    interpretation = []\n",
    "    for word in re.split(\"( )\", sentence):\n",
    "        score = 0\n",
    "        token = word.lower()\n",
    "        if (is_male and token in male_words) or (not is_male and token in female_words):\n",
    "            score = 1\n",
    "        elif (is_male and token in female_words) or (\n",
    "            not is_male and token in male_words\n",
    "        ):\n",
    "            score = -1\n",
    "        interpretation.append((word, score))\n",
    "    # Output must be a list of lists containing the same number of elements as inputs\n",
    "    # Each element corresponds to the interpretation scores for the given input\n",
    "    return [interpretation]\n",
    "\n",
    "\n",
    "demo = gr.Interface(\n",
    "    fn=gender_of_sentence,\n",
    "    inputs=gr.Textbox(value=\"She went to his house to get her keys.\"),\n",
    "    outputs=\"label\",\n",
    "    interpretation=interpret_gender,\n",
    "    examples=[\n",
    "        [\"She went to his house to get her keys.\"],\n",
    "        [\"He went to her house to get his keys.\"],\n",
    "        [\"His keys were at her house.\"],\n",
    "    ],\n",
    ")\n",
    "\n",
    "demo.launch()\n"
   ]
  }
 ],
 "metadata": {
  "kernelspec": {
   "display_name": "base",
   "language": "python",
   "name": "python3"
  },
  "language_info": {
   "codemirror_mode": {
    "name": "ipython",
    "version": 3
   },
   "file_extension": ".py",
   "mimetype": "text/x-python",
   "name": "python",
   "nbconvert_exporter": "python",
   "pygments_lexer": "ipython3",
   "version": "3.9.7"
  },
  "orig_nbformat": 4
 },
 "nbformat": 4,
 "nbformat_minor": 2
}
